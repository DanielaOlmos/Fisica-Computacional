{
 "cells": [
  {
   "cell_type": "code",
   "execution_count": 1,
   "metadata": {},
   "outputs": [],
   "source": [
    "#Importar librerías\n",
    "import pandas as pd\n",
    "import numpy as np\n",
    "import matplotlib.pyplot as plt\n",
    "import calendar\n",
    "import seaborn as sns"
   ]
  },
  {
   "cell_type": "code",
   "execution_count": 2,
   "metadata": {},
   "outputs": [],
   "source": [
    "#Asignando variable a valores nulos\n",
    "sentinels = {'PRECIP': ['Nulo'], 'EVAP': ['Nulo'], 'TMAX': ['Nulo'],'TMIN': ['Nulo']}\n",
    "#Leyendo el archivo\n",
    "df0 = pd.read_csv(\"cajeme.txt\",skiprows=0,sep='\\s+',na_values=sentinels)"
   ]
  },
  {
   "cell_type": "code",
   "execution_count": 3,
   "metadata": {},
   "outputs": [],
   "source": [
    "#Definiendo el dataframe\n",
    "df = pd.DataFrame(df0)"
   ]
  },
  {
   "cell_type": "code",
   "execution_count": 4,
   "metadata": {},
   "outputs": [],
   "source": [
    "#Cambiando la columna de fecha a formato fecha\n",
    "df['FECHAN'] = pd.to_datetime(df.apply(lambda x: x['FECHA'], 1), dayfirst=True)\n",
    "df = df.drop(['FECHA'], 1)"
   ]
  },
  {
   "cell_type": "code",
   "execution_count": 5,
   "metadata": {},
   "outputs": [
    {
     "data": {
      "text/plain": [
       "PRECIP           float64\n",
       "EVAP             float64\n",
       "TMAX             float64\n",
       "TMIN             float64\n",
       "FECHAN    datetime64[ns]\n",
       "dtype: object"
      ]
     },
     "execution_count": 5,
     "metadata": {},
     "output_type": "execute_result"
    }
   ],
   "source": [
    "#Mostrando los tipos\n",
    "df.dtypes"
   ]
  },
  {
   "cell_type": "code",
   "execution_count": 6,
   "metadata": {},
   "outputs": [
    {
     "data": {
      "text/html": [
       "<div>\n",
       "<style scoped>\n",
       "    .dataframe tbody tr th:only-of-type {\n",
       "        vertical-align: middle;\n",
       "    }\n",
       "\n",
       "    .dataframe tbody tr th {\n",
       "        vertical-align: top;\n",
       "    }\n",
       "\n",
       "    .dataframe thead th {\n",
       "        text-align: right;\n",
       "    }\n",
       "</style>\n",
       "<table border=\"1\" class=\"dataframe\">\n",
       "  <thead>\n",
       "    <tr style=\"text-align: right;\">\n",
       "      <th></th>\n",
       "      <th>PRECIP</th>\n",
       "      <th>EVAP</th>\n",
       "      <th>TMAX</th>\n",
       "      <th>TMIN</th>\n",
       "    </tr>\n",
       "  </thead>\n",
       "  <tbody>\n",
       "    <tr>\n",
       "      <th>count</th>\n",
       "      <td>10531.000000</td>\n",
       "      <td>7324.000000</td>\n",
       "      <td>10503.000000</td>\n",
       "      <td>10514.000000</td>\n",
       "    </tr>\n",
       "    <tr>\n",
       "      <th>mean</th>\n",
       "      <td>0.894511</td>\n",
       "      <td>5.814091</td>\n",
       "      <td>32.601047</td>\n",
       "      <td>14.880873</td>\n",
       "    </tr>\n",
       "    <tr>\n",
       "      <th>std</th>\n",
       "      <td>5.948456</td>\n",
       "      <td>2.431426</td>\n",
       "      <td>5.770682</td>\n",
       "      <td>6.881583</td>\n",
       "    </tr>\n",
       "    <tr>\n",
       "      <th>min</th>\n",
       "      <td>0.000000</td>\n",
       "      <td>0.200000</td>\n",
       "      <td>13.000000</td>\n",
       "      <td>-2.500000</td>\n",
       "    </tr>\n",
       "    <tr>\n",
       "      <th>25%</th>\n",
       "      <td>0.000000</td>\n",
       "      <td>3.900000</td>\n",
       "      <td>28.000000</td>\n",
       "      <td>9.000000</td>\n",
       "    </tr>\n",
       "    <tr>\n",
       "      <th>50%</th>\n",
       "      <td>0.000000</td>\n",
       "      <td>5.500000</td>\n",
       "      <td>33.000000</td>\n",
       "      <td>13.000000</td>\n",
       "    </tr>\n",
       "    <tr>\n",
       "      <th>75%</th>\n",
       "      <td>0.000000</td>\n",
       "      <td>7.600000</td>\n",
       "      <td>37.500000</td>\n",
       "      <td>22.000000</td>\n",
       "    </tr>\n",
       "    <tr>\n",
       "      <th>max</th>\n",
       "      <td>184.500000</td>\n",
       "      <td>14.900000</td>\n",
       "      <td>47.500000</td>\n",
       "      <td>29.000000</td>\n",
       "    </tr>\n",
       "  </tbody>\n",
       "</table>\n",
       "</div>"
      ],
      "text/plain": [
       "             PRECIP         EVAP          TMAX          TMIN\n",
       "count  10531.000000  7324.000000  10503.000000  10514.000000\n",
       "mean       0.894511     5.814091     32.601047     14.880873\n",
       "std        5.948456     2.431426      5.770682      6.881583\n",
       "min        0.000000     0.200000     13.000000     -2.500000\n",
       "25%        0.000000     3.900000     28.000000      9.000000\n",
       "50%        0.000000     5.500000     33.000000     13.000000\n",
       "75%        0.000000     7.600000     37.500000     22.000000\n",
       "max      184.500000    14.900000     47.500000     29.000000"
      ]
     },
     "execution_count": 6,
     "metadata": {},
     "output_type": "execute_result"
    }
   ],
   "source": [
    "#Mostrando descripción del data frame\n",
    "df.describe()"
   ]
  },
  {
   "cell_type": "code",
   "execution_count": 7,
   "metadata": {},
   "outputs": [
    {
     "data": {
      "text/html": [
       "<div>\n",
       "<style scoped>\n",
       "    .dataframe tbody tr th:only-of-type {\n",
       "        vertical-align: middle;\n",
       "    }\n",
       "\n",
       "    .dataframe tbody tr th {\n",
       "        vertical-align: top;\n",
       "    }\n",
       "\n",
       "    .dataframe thead th {\n",
       "        text-align: right;\n",
       "    }\n",
       "</style>\n",
       "<table border=\"1\" class=\"dataframe\">\n",
       "  <thead>\n",
       "    <tr style=\"text-align: right;\">\n",
       "      <th></th>\n",
       "      <th>PRECIP</th>\n",
       "      <th>EVAP</th>\n",
       "      <th>TMAX</th>\n",
       "      <th>TMIN</th>\n",
       "      <th>FECHAN</th>\n",
       "      <th>MES</th>\n",
       "      <th>AÑO</th>\n",
       "    </tr>\n",
       "  </thead>\n",
       "  <tbody>\n",
       "    <tr>\n",
       "      <th>0</th>\n",
       "      <td>0.0</td>\n",
       "      <td>1.2</td>\n",
       "      <td>25.0</td>\n",
       "      <td>7.0</td>\n",
       "      <td>1980-01-01</td>\n",
       "      <td>1</td>\n",
       "      <td>1980</td>\n",
       "    </tr>\n",
       "    <tr>\n",
       "      <th>1</th>\n",
       "      <td>0.0</td>\n",
       "      <td>1.7</td>\n",
       "      <td>22.0</td>\n",
       "      <td>8.0</td>\n",
       "      <td>1980-01-02</td>\n",
       "      <td>1</td>\n",
       "      <td>1980</td>\n",
       "    </tr>\n",
       "    <tr>\n",
       "      <th>2</th>\n",
       "      <td>0.0</td>\n",
       "      <td>1.9</td>\n",
       "      <td>25.0</td>\n",
       "      <td>9.0</td>\n",
       "      <td>1980-01-03</td>\n",
       "      <td>1</td>\n",
       "      <td>1980</td>\n",
       "    </tr>\n",
       "    <tr>\n",
       "      <th>3</th>\n",
       "      <td>0.0</td>\n",
       "      <td>1.8</td>\n",
       "      <td>26.0</td>\n",
       "      <td>6.0</td>\n",
       "      <td>1980-01-04</td>\n",
       "      <td>1</td>\n",
       "      <td>1980</td>\n",
       "    </tr>\n",
       "    <tr>\n",
       "      <th>4</th>\n",
       "      <td>0.0</td>\n",
       "      <td>2.0</td>\n",
       "      <td>26.0</td>\n",
       "      <td>4.0</td>\n",
       "      <td>1980-01-05</td>\n",
       "      <td>1</td>\n",
       "      <td>1980</td>\n",
       "    </tr>\n",
       "  </tbody>\n",
       "</table>\n",
       "</div>"
      ],
      "text/plain": [
       "   PRECIP  EVAP  TMAX  TMIN     FECHAN  MES   AÑO\n",
       "0     0.0   1.2  25.0   7.0 1980-01-01    1  1980\n",
       "1     0.0   1.7  22.0   8.0 1980-01-02    1  1980\n",
       "2     0.0   1.9  25.0   9.0 1980-01-03    1  1980\n",
       "3     0.0   1.8  26.0   6.0 1980-01-04    1  1980\n",
       "4     0.0   2.0  26.0   4.0 1980-01-05    1  1980"
      ]
     },
     "execution_count": 7,
     "metadata": {},
     "output_type": "execute_result"
    }
   ],
   "source": [
    "#Definiendo columnas de año y mes\n",
    "df['MES'] = df['FECHAN'].dt.month\n",
    "df['AÑO'] = df['FECHAN'].dt.year\n",
    "df.head()"
   ]
  },
  {
   "cell_type": "code",
   "execution_count": 8,
   "metadata": {},
   "outputs": [
    {
     "data": {
      "text/plain": [
       "32"
      ]
     },
     "execution_count": 8,
     "metadata": {},
     "output_type": "execute_result"
    }
   ],
   "source": [
    "#Buscando el número de años\n",
    "NumA = len(df['AÑO'].unique())\n",
    "NumA"
   ]
  },
  {
   "cell_type": "code",
   "execution_count": 9,
   "metadata": {},
   "outputs": [],
   "source": [
    "#Haciendo arreglo de meses y de años\n",
    "init = 1980\n",
    "AÑOS = [init + i for i in range(0, NumA)]\n",
    "init2 = 1\n",
    "MESES = [init2 + i for i in range(0, 12)]\n"
   ]
  },
  {
   "cell_type": "code",
   "execution_count": 10,
   "metadata": {},
   "outputs": [
    {
     "data": {
      "text/plain": [
       "[7.488407258064516,\n",
       " 8.010216346153847,\n",
       " 8.960457856399584,\n",
       " 11.10344827586207,\n",
       " 14.390681003584229,\n",
       " 20.22530864197531,\n",
       " 24.048984468339306,\n",
       " 24.32373271889401,\n",
       " 23.23735632183908,\n",
       " 18.449944382647384,\n",
       " 12.217857142857143,\n",
       " 8.193763919821826]"
      ]
     },
     "execution_count": 10,
     "metadata": {},
     "output_type": "execute_result"
    }
   ],
   "source": [
    "#Calculando promedio de precipitaciones y temperaturas mensuales\n",
    "PRECIPPROPMES = [df[df.MES==(init2 + i)].PRECIP.sum()/NumA for i in range (0,12)]\n",
    "TMAXPROMMES = [df[df.MES==(init2 + i)].TMAX.mean() for i in range (0,12)]\n",
    "TMINPROMMES = [df[df.MES==(init2 + i)].TMIN.mean() for i in range (0,12)]\n",
    "\n",
    "TMINPROMMES"
   ]
  },
  {
   "cell_type": "code",
   "execution_count": 11,
   "metadata": {},
   "outputs": [
    {
     "data": {
      "text/html": [
       "<div>\n",
       "<style scoped>\n",
       "    .dataframe tbody tr th:only-of-type {\n",
       "        vertical-align: middle;\n",
       "    }\n",
       "\n",
       "    .dataframe tbody tr th {\n",
       "        vertical-align: top;\n",
       "    }\n",
       "\n",
       "    .dataframe thead th {\n",
       "        text-align: right;\n",
       "    }\n",
       "</style>\n",
       "<table border=\"1\" class=\"dataframe\">\n",
       "  <thead>\n",
       "    <tr style=\"text-align: right;\">\n",
       "      <th></th>\n",
       "      <th>MES</th>\n",
       "      <th>PRECIPPROPMES</th>\n",
       "      <th>TMAXPROMMES</th>\n",
       "      <th>TMINPROMMES</th>\n",
       "    </tr>\n",
       "  </thead>\n",
       "  <tbody>\n",
       "    <tr>\n",
       "      <th>0</th>\n",
       "      <td>1</td>\n",
       "      <td>24.140625</td>\n",
       "      <td>25.384577</td>\n",
       "      <td>7.488407</td>\n",
       "    </tr>\n",
       "    <tr>\n",
       "      <th>1</th>\n",
       "      <td>2</td>\n",
       "      <td>10.696875</td>\n",
       "      <td>26.821084</td>\n",
       "      <td>8.010216</td>\n",
       "    </tr>\n",
       "    <tr>\n",
       "      <th>2</th>\n",
       "      <td>3</td>\n",
       "      <td>2.359375</td>\n",
       "      <td>29.330208</td>\n",
       "      <td>8.960458</td>\n",
       "    </tr>\n",
       "    <tr>\n",
       "      <th>3</th>\n",
       "      <td>4</td>\n",
       "      <td>1.493750</td>\n",
       "      <td>32.628308</td>\n",
       "      <td>11.103448</td>\n",
       "    </tr>\n",
       "    <tr>\n",
       "      <th>4</th>\n",
       "      <td>5</td>\n",
       "      <td>0.584375</td>\n",
       "      <td>35.624851</td>\n",
       "      <td>14.390681</td>\n",
       "    </tr>\n",
       "    <tr>\n",
       "      <th>5</th>\n",
       "      <td>6</td>\n",
       "      <td>3.484375</td>\n",
       "      <td>38.114710</td>\n",
       "      <td>20.225309</td>\n",
       "    </tr>\n",
       "    <tr>\n",
       "      <th>6</th>\n",
       "      <td>7</td>\n",
       "      <td>60.290625</td>\n",
       "      <td>38.273653</td>\n",
       "      <td>24.048984</td>\n",
       "    </tr>\n",
       "    <tr>\n",
       "      <th>7</th>\n",
       "      <td>8</td>\n",
       "      <td>66.834375</td>\n",
       "      <td>38.229527</td>\n",
       "      <td>24.323733</td>\n",
       "    </tr>\n",
       "    <tr>\n",
       "      <th>8</th>\n",
       "      <td>9</td>\n",
       "      <td>76.212500</td>\n",
       "      <td>37.452819</td>\n",
       "      <td>23.237356</td>\n",
       "    </tr>\n",
       "    <tr>\n",
       "      <th>9</th>\n",
       "      <td>10</td>\n",
       "      <td>21.475000</td>\n",
       "      <td>35.120824</td>\n",
       "      <td>18.449944</td>\n",
       "    </tr>\n",
       "    <tr>\n",
       "      <th>10</th>\n",
       "      <td>11</td>\n",
       "      <td>10.850000</td>\n",
       "      <td>30.697259</td>\n",
       "      <td>12.217857</td>\n",
       "    </tr>\n",
       "    <tr>\n",
       "      <th>11</th>\n",
       "      <td>12</td>\n",
       "      <td>15.956250</td>\n",
       "      <td>25.454900</td>\n",
       "      <td>8.193764</td>\n",
       "    </tr>\n",
       "  </tbody>\n",
       "</table>\n",
       "</div>"
      ],
      "text/plain": [
       "    MES  PRECIPPROPMES  TMAXPROMMES  TMINPROMMES\n",
       "0     1      24.140625    25.384577     7.488407\n",
       "1     2      10.696875    26.821084     8.010216\n",
       "2     3       2.359375    29.330208     8.960458\n",
       "3     4       1.493750    32.628308    11.103448\n",
       "4     5       0.584375    35.624851    14.390681\n",
       "5     6       3.484375    38.114710    20.225309\n",
       "6     7      60.290625    38.273653    24.048984\n",
       "7     8      66.834375    38.229527    24.323733\n",
       "8     9      76.212500    37.452819    23.237356\n",
       "9    10      21.475000    35.120824    18.449944\n",
       "10   11      10.850000    30.697259    12.217857\n",
       "11   12      15.956250    25.454900     8.193764"
      ]
     },
     "execution_count": 11,
     "metadata": {},
     "output_type": "execute_result"
    }
   ],
   "source": [
    "#Creando data frame para datos mensuales\n",
    "d = {'MES': MESES , 'PRECIPPROPMES':PRECIPPROPMES,'TMAXPROMMES': TMAXPROMMES,'TMINPROMMES': TMINPROMMES }\n",
    "dmes = pd.DataFrame(data=d)\n",
    "dmes"
   ]
  },
  {
   "cell_type": "code",
   "execution_count": 12,
   "metadata": {},
   "outputs": [],
   "source": [
    "#Calculando promedio de precipitaciones y temperaturas anuales\n",
    "PRECIPPROPAÑO = [df[df.AÑO==(init + i)].PRECIP.sum()/NumA for i in range (0,NumA)]\n",
    "TMAXPROMAÑO = [df[df.AÑO==(init + i)].TMAX.mean() for i in range (0,NumA)]\n",
    "TMINPROMAÑO = [df[df.AÑO==(init + i)].TMIN.mean() for i in range (0,NumA)]\n"
   ]
  },
  {
   "cell_type": "code",
   "execution_count": 13,
   "metadata": {},
   "outputs": [
    {
     "data": {
      "text/html": [
       "<div>\n",
       "<style scoped>\n",
       "    .dataframe tbody tr th:only-of-type {\n",
       "        vertical-align: middle;\n",
       "    }\n",
       "\n",
       "    .dataframe tbody tr th {\n",
       "        vertical-align: top;\n",
       "    }\n",
       "\n",
       "    .dataframe thead th {\n",
       "        text-align: right;\n",
       "    }\n",
       "</style>\n",
       "<table border=\"1\" class=\"dataframe\">\n",
       "  <thead>\n",
       "    <tr style=\"text-align: right;\">\n",
       "      <th></th>\n",
       "      <th>AÑO</th>\n",
       "      <th>PRECIPPROPAÑO</th>\n",
       "      <th>TMAXPROMAÑO</th>\n",
       "      <th>TMINPROMAÑO</th>\n",
       "    </tr>\n",
       "  </thead>\n",
       "  <tbody>\n",
       "    <tr>\n",
       "      <th>0</th>\n",
       "      <td>1980</td>\n",
       "      <td>5.703125</td>\n",
       "      <td>31.431694</td>\n",
       "      <td>16.181694</td>\n",
       "    </tr>\n",
       "    <tr>\n",
       "      <th>1</th>\n",
       "      <td>1981</td>\n",
       "      <td>14.921875</td>\n",
       "      <td>31.073973</td>\n",
       "      <td>16.008219</td>\n",
       "    </tr>\n",
       "    <tr>\n",
       "      <th>2</th>\n",
       "      <td>1982</td>\n",
       "      <td>6.796875</td>\n",
       "      <td>31.394521</td>\n",
       "      <td>14.813699</td>\n",
       "    </tr>\n",
       "    <tr>\n",
       "      <th>3</th>\n",
       "      <td>1983</td>\n",
       "      <td>2.890625</td>\n",
       "      <td>27.158333</td>\n",
       "      <td>8.800000</td>\n",
       "    </tr>\n",
       "    <tr>\n",
       "      <th>4</th>\n",
       "      <td>1984</td>\n",
       "      <td>18.109375</td>\n",
       "      <td>30.625455</td>\n",
       "      <td>15.483636</td>\n",
       "    </tr>\n",
       "    <tr>\n",
       "      <th>5</th>\n",
       "      <td>1985</td>\n",
       "      <td>4.046875</td>\n",
       "      <td>27.049451</td>\n",
       "      <td>9.313187</td>\n",
       "    </tr>\n",
       "    <tr>\n",
       "      <th>6</th>\n",
       "      <td>1986</td>\n",
       "      <td>5.062500</td>\n",
       "      <td>31.731405</td>\n",
       "      <td>14.409091</td>\n",
       "    </tr>\n",
       "    <tr>\n",
       "      <th>7</th>\n",
       "      <td>1987</td>\n",
       "      <td>3.687500</td>\n",
       "      <td>31.702041</td>\n",
       "      <td>13.469388</td>\n",
       "    </tr>\n",
       "    <tr>\n",
       "      <th>8</th>\n",
       "      <td>1988</td>\n",
       "      <td>3.156250</td>\n",
       "      <td>32.093333</td>\n",
       "      <td>12.581395</td>\n",
       "    </tr>\n",
       "    <tr>\n",
       "      <th>9</th>\n",
       "      <td>1989</td>\n",
       "      <td>0.437500</td>\n",
       "      <td>22.193548</td>\n",
       "      <td>4.548387</td>\n",
       "    </tr>\n",
       "    <tr>\n",
       "      <th>10</th>\n",
       "      <td>1990</td>\n",
       "      <td>14.350000</td>\n",
       "      <td>31.945205</td>\n",
       "      <td>14.361644</td>\n",
       "    </tr>\n",
       "    <tr>\n",
       "      <th>11</th>\n",
       "      <td>1991</td>\n",
       "      <td>11.437500</td>\n",
       "      <td>31.802740</td>\n",
       "      <td>14.501370</td>\n",
       "    </tr>\n",
       "    <tr>\n",
       "      <th>12</th>\n",
       "      <td>1992</td>\n",
       "      <td>12.596875</td>\n",
       "      <td>32.006925</td>\n",
       "      <td>15.658470</td>\n",
       "    </tr>\n",
       "    <tr>\n",
       "      <th>13</th>\n",
       "      <td>1993</td>\n",
       "      <td>10.593750</td>\n",
       "      <td>31.739011</td>\n",
       "      <td>16.023288</td>\n",
       "    </tr>\n",
       "    <tr>\n",
       "      <th>14</th>\n",
       "      <td>1994</td>\n",
       "      <td>9.381250</td>\n",
       "      <td>33.730114</td>\n",
       "      <td>15.225212</td>\n",
       "    </tr>\n",
       "    <tr>\n",
       "      <th>15</th>\n",
       "      <td>1995</td>\n",
       "      <td>7.843750</td>\n",
       "      <td>34.919178</td>\n",
       "      <td>15.286301</td>\n",
       "    </tr>\n",
       "    <tr>\n",
       "      <th>16</th>\n",
       "      <td>1996</td>\n",
       "      <td>11.703125</td>\n",
       "      <td>32.921703</td>\n",
       "      <td>15.273224</td>\n",
       "    </tr>\n",
       "    <tr>\n",
       "      <th>17</th>\n",
       "      <td>1997</td>\n",
       "      <td>11.859375</td>\n",
       "      <td>32.454795</td>\n",
       "      <td>16.194521</td>\n",
       "    </tr>\n",
       "    <tr>\n",
       "      <th>18</th>\n",
       "      <td>1998</td>\n",
       "      <td>4.984375</td>\n",
       "      <td>32.995890</td>\n",
       "      <td>15.464384</td>\n",
       "    </tr>\n",
       "    <tr>\n",
       "      <th>19</th>\n",
       "      <td>1999</td>\n",
       "      <td>7.031250</td>\n",
       "      <td>33.752055</td>\n",
       "      <td>14.330137</td>\n",
       "    </tr>\n",
       "    <tr>\n",
       "      <th>20</th>\n",
       "      <td>2000</td>\n",
       "      <td>9.059375</td>\n",
       "      <td>33.885246</td>\n",
       "      <td>14.430328</td>\n",
       "    </tr>\n",
       "    <tr>\n",
       "      <th>21</th>\n",
       "      <td>2001</td>\n",
       "      <td>15.512500</td>\n",
       "      <td>33.717808</td>\n",
       "      <td>15.372603</td>\n",
       "    </tr>\n",
       "    <tr>\n",
       "      <th>22</th>\n",
       "      <td>2002</td>\n",
       "      <td>5.506250</td>\n",
       "      <td>33.433884</td>\n",
       "      <td>14.285714</td>\n",
       "    </tr>\n",
       "    <tr>\n",
       "      <th>23</th>\n",
       "      <td>2003</td>\n",
       "      <td>8.765625</td>\n",
       "      <td>33.346575</td>\n",
       "      <td>14.639726</td>\n",
       "    </tr>\n",
       "    <tr>\n",
       "      <th>24</th>\n",
       "      <td>2004</td>\n",
       "      <td>18.356250</td>\n",
       "      <td>33.086066</td>\n",
       "      <td>15.435792</td>\n",
       "    </tr>\n",
       "    <tr>\n",
       "      <th>25</th>\n",
       "      <td>2005</td>\n",
       "      <td>7.556250</td>\n",
       "      <td>33.364384</td>\n",
       "      <td>15.797260</td>\n",
       "    </tr>\n",
       "    <tr>\n",
       "      <th>26</th>\n",
       "      <td>2006</td>\n",
       "      <td>10.156250</td>\n",
       "      <td>33.880822</td>\n",
       "      <td>15.406849</td>\n",
       "    </tr>\n",
       "    <tr>\n",
       "      <th>27</th>\n",
       "      <td>2007</td>\n",
       "      <td>11.934375</td>\n",
       "      <td>33.561644</td>\n",
       "      <td>14.983562</td>\n",
       "    </tr>\n",
       "    <tr>\n",
       "      <th>28</th>\n",
       "      <td>2008</td>\n",
       "      <td>8.818750</td>\n",
       "      <td>33.534153</td>\n",
       "      <td>15.530055</td>\n",
       "    </tr>\n",
       "    <tr>\n",
       "      <th>29</th>\n",
       "      <td>2009</td>\n",
       "      <td>17.234375</td>\n",
       "      <td>33.713151</td>\n",
       "      <td>15.936986</td>\n",
       "    </tr>\n",
       "    <tr>\n",
       "      <th>30</th>\n",
       "      <td>2010</td>\n",
       "      <td>7.890625</td>\n",
       "      <td>32.917808</td>\n",
       "      <td>14.920548</td>\n",
       "    </tr>\n",
       "    <tr>\n",
       "      <th>31</th>\n",
       "      <td>2011</td>\n",
       "      <td>6.993750</td>\n",
       "      <td>32.976712</td>\n",
       "      <td>14.316438</td>\n",
       "    </tr>\n",
       "  </tbody>\n",
       "</table>\n",
       "</div>"
      ],
      "text/plain": [
       "     AÑO  PRECIPPROPAÑO  TMAXPROMAÑO  TMINPROMAÑO\n",
       "0   1980       5.703125    31.431694    16.181694\n",
       "1   1981      14.921875    31.073973    16.008219\n",
       "2   1982       6.796875    31.394521    14.813699\n",
       "3   1983       2.890625    27.158333     8.800000\n",
       "4   1984      18.109375    30.625455    15.483636\n",
       "5   1985       4.046875    27.049451     9.313187\n",
       "6   1986       5.062500    31.731405    14.409091\n",
       "7   1987       3.687500    31.702041    13.469388\n",
       "8   1988       3.156250    32.093333    12.581395\n",
       "9   1989       0.437500    22.193548     4.548387\n",
       "10  1990      14.350000    31.945205    14.361644\n",
       "11  1991      11.437500    31.802740    14.501370\n",
       "12  1992      12.596875    32.006925    15.658470\n",
       "13  1993      10.593750    31.739011    16.023288\n",
       "14  1994       9.381250    33.730114    15.225212\n",
       "15  1995       7.843750    34.919178    15.286301\n",
       "16  1996      11.703125    32.921703    15.273224\n",
       "17  1997      11.859375    32.454795    16.194521\n",
       "18  1998       4.984375    32.995890    15.464384\n",
       "19  1999       7.031250    33.752055    14.330137\n",
       "20  2000       9.059375    33.885246    14.430328\n",
       "21  2001      15.512500    33.717808    15.372603\n",
       "22  2002       5.506250    33.433884    14.285714\n",
       "23  2003       8.765625    33.346575    14.639726\n",
       "24  2004      18.356250    33.086066    15.435792\n",
       "25  2005       7.556250    33.364384    15.797260\n",
       "26  2006      10.156250    33.880822    15.406849\n",
       "27  2007      11.934375    33.561644    14.983562\n",
       "28  2008       8.818750    33.534153    15.530055\n",
       "29  2009      17.234375    33.713151    15.936986\n",
       "30  2010       7.890625    32.917808    14.920548\n",
       "31  2011       6.993750    32.976712    14.316438"
      ]
     },
     "execution_count": 13,
     "metadata": {},
     "output_type": "execute_result"
    }
   ],
   "source": [
    "#Creando data frame para datos anuales\n",
    "d = {'AÑO': AÑOS , 'PRECIPPROPAÑO':PRECIPPROPAÑO,'TMAXPROMAÑO': TMAXPROMAÑO,'TMINPROMAÑO': TMINPROMAÑO }\n",
    "daño = pd.DataFrame(data=d)\n",
    "daño"
   ]
  },
  {
   "cell_type": "code",
   "execution_count": 14,
   "metadata": {},
   "outputs": [],
   "source": [
    "#Creando arreglo con labels de mes\n",
    "MESESlabel = calendar.month_name[1:13]"
   ]
  },
  {
   "cell_type": "code",
   "execution_count": 15,
   "metadata": {},
   "outputs": [
    {
     "data": {
      "image/png": "[encoded data removed]",
      "text/plain": [
       "<Figure size 432x288 with 1 Axes>"
      ]
     },
     "metadata": {
      "needs_background": "light"
     },
     "output_type": "display_data"
    }
   ],
   "source": [
    "#Creando gráfica para precipitación mensual acumulada promedio\n",
    "X = MESESlabel\n",
    "N = np.arange(len(X))\n",
    "Y = PRECIPPROPMES \n",
    " \n",
    "plt.bar(N, Y,  width=0.5,align='center', alpha=0.7,color='b')\n",
    "plt.xticks(N, X, size = 'small', color = 'k', rotation = 90)\n",
    "plt.ylabel('Precipitación total (mm)')\n",
    "plt.title('Precipitación mensual acumulada promedio (1980-2011)')\n",
    "plt.savefig('Precip_mensual',plt=2000)\n",
    "plt.show()"
   ]
  },
  {
   "cell_type": "code",
   "execution_count": 16,
   "metadata": {},
   "outputs": [
    {
     "data": {
      "image/png": "[encoded data removed]",
      "text/plain": [
       "<Figure size 432x288 with 1 Axes>"
      ]
     },
     "metadata": {
      "needs_background": "light"
     },
     "output_type": "display_data"
    }
   ],
   "source": [
    "#Creando gráfica para precipitación mensual acumulada promedio\n",
    "X = AÑOS\n",
    "N = np.arange(len(X))\n",
    "Y = PRECIPPROPAÑO \n",
    " \n",
    "plt.bar(N, Y,  width=0.5,align='center', alpha=0.7,color='b')\n",
    "plt.xticks(N, X, size = 'small', color = 'k', rotation = 90)\n",
    "plt.ylabel('Precipitación total (mm)')\n",
    "plt.title('Precipitación anual acumulada promedio (1980-2011)')\n",
    "plt.savefig('Precip_anual',plt=2000)\n",
    "plt.show()"
   ]
  },
  {
   "cell_type": "code",
   "execution_count": 17,
   "metadata": {},
   "outputs": [
    {
     "data": {
      "image/png": "[encoded data removed]",
      "text/plain": [
       "<Figure size 432x288 with 1 Axes>"
      ]
     },
     "metadata": {
      "needs_background": "light"
     },
     "output_type": "display_data"
    }
   ],
   "source": [
    "#Creando gráfica para precipitación mensual acumulada promedio\n",
    "X = AÑOS\n",
    "N = np.arange(len(X))\n",
    "Y1 = TMINPROMAÑO\n",
    "Y2 = TMAXPROMAÑO\n",
    " \n",
    "plt.plot(Y1, label = \"Temperatura mínima\", color = 'y')   \n",
    "plt.plot(Y2, label = \"Temperatura máxima\", color = 'b')\n",
    "\n",
    "plt.xlabel(\"Años\")   \n",
    "plt.ylabel(\"Temperatura (°C)\")  \n",
    "\n",
    "plt.xticks(N, X, size = 'small', color = 'k', rotation = 90)\n",
    "plt.legend()\n",
    "\n",
    "plt.title('Evolución de la temperatura promedio (1980-2011)')\n",
    "plt.savefig('Temp_anual',plt=2000)\n",
    "plt.show()"
   ]
  },
  {
   "cell_type": "code",
   "execution_count": 18,
   "metadata": {},
   "outputs": [
    {
     "data": {
      "image/png": "[encoded data removed]",
      "text/plain": [
       "<Figure size 432x288 with 1 Axes>"
      ]
     },
     "metadata": {
      "needs_background": "light"
     },
     "output_type": "display_data"
    }
   ],
   "source": [
    "#Diagrama de caja de la temperatura máxima promedio mensual>\n",
    "box = sns.boxplot(x=\"MES\", y=\"TMAX\", data=df)\n",
    "box.set( xlabel= 'Meses', ylabel= 'Temperatura máxima (°C)')\n",
    "box.set_xticklabels(MESESlabel, rotation=90 )\n",
    "box.tick_params(labelsize=8)\n",
    "sns.despine()\n",
    "plt.title('Temperatura máxima promedio mensual')\n",
    "plt.savefig('cajamax_mensual',plt=2000)\n",
    "plt.show()     "
   ]
  },
  {
   "cell_type": "code",
   "execution_count": 31,
   "metadata": {},
   "outputs": [
    {
     "data": {
      "image/png": "[encoded data removed]",
      "text/plain": [
       "<Figure size 432x288 with 1 Axes>"
      ]
     },
     "metadata": {
      "needs_background": "light"
     },
     "output_type": "display_data"
    }
   ],
   "source": [
    "#Diagrama de caja de la temperatura máxima promedio mensual\n",
    "df2 = df.filter(['TMAX','MES'],axis=1)\n",
    "df2=df2.pivot(columns='MES',values='TMAX')\n",
    "df2.boxplot()\n",
    "plt.title('Temperatura máxima promedio mensual')\n",
    "plt.savefig('cajamax_mensual2',plt=2000)\n",
    "plt.show()"
   ]
  },
  {
   "cell_type": "code",
   "execution_count": 20,
   "metadata": {},
   "outputs": [
    {
     "data": {
      "image/png": "[encoded data removed]",
      "text/plain": [
       "<Figure size 432x288 with 1 Axes>"
      ]
     },
     "metadata": {
      "needs_background": "light"
     },
     "output_type": "display_data"
    }
   ],
   "source": [
    "#Diagrama de caja de la temperatura mínima promedio mensual\n",
    "box = sns.boxplot(x=\"MES\", y=\"TMIN\", data=df)\n",
    "box.set( xlabel= 'Meses', ylabel= 'Temperatura mínima (°C)')\n",
    "box.set_xticklabels(MESESlabel, rotation=90 )\n",
    "box.tick_params(labelsize=8)\n",
    "sns.despine()\n",
    "plt.title('Temperatura mínima promedio mensual')\n",
    "plt.savefig('cajamin_mensual',plt=2000)\n",
    "plt.show()     "
   ]
  },
  {
   "cell_type": "code",
   "execution_count": 32,
   "metadata": {},
   "outputs": [
    {
     "data": {
      "image/png": "[encoded data removed]",
      "text/plain": [
       "<Figure size 432x288 with 1 Axes>"
      ]
     },
     "metadata": {
      "needs_background": "light"
     },
     "output_type": "display_data"
    }
   ],
   "source": [
    "#Diagrama de caja de la temperatura mínima promedio mensual\n",
    "df2 = df.filter(['TMIN','MES'],axis=1)\n",
    "df2=df2.pivot(columns='MES',values='TMIN')\n",
    "df2.boxplot()\n",
    "plt.title('Temperatura mínima promedio mensual')\n",
    "plt.savefig('cajamin_mensual2',plt=2000)\n",
    "plt.show()"
   ]
  },
  {
   "cell_type": "code",
   "execution_count": 21,
   "metadata": {},
   "outputs": [
    {
     "data": {
      "image/png": "[encoded data removed]",
      "text/plain": [
       "<Figure size 432x288 with 1 Axes>"
      ]
     },
     "metadata": {
      "needs_background": "light"
     },
     "output_type": "display_data"
    }
   ],
   "source": [
    "#Diagrama de caja de la temperatura máxima promedio anual\n",
    "box = sns.boxplot(x=\"AÑO\", y=\"TMAX\", data=df)\n",
    "box.set( xlabel= 'Años', ylabel= 'Temperatura máxima (°C)')\n",
    "box.set_xticklabels(box.get_xticklabels(), rotation=90 )\n",
    "box.tick_params(labelsize=8)\n",
    "sns.despine()\n",
    "plt.title('Temperatura máxima promedio anual')\n",
    "plt.savefig('cajamax_anual',plt=2000)\n",
    "plt.show()"
   ]
  },
  {
   "cell_type": "code",
   "execution_count": 33,
   "metadata": {},
   "outputs": [
    {
     "data": {
      "image/png": "[encoded data removed]",
      "text/plain": [
       "<Figure size 432x288 with 1 Axes>"
      ]
     },
     "metadata": {
      "needs_background": "light"
     },
     "output_type": "display_data"
    }
   ],
   "source": [
    "#Diagrama de caja de la temperatura máxima promedio anual\n",
    "df2 = df.filter(['TMAX','AÑO'],axis=1)\n",
    "df2=df2.pivot(columns='AÑO',values='TMAX')\n",
    "df2.boxplot()\n",
    "box.set_xticklabels(box.get_xticklabels(), rotation=90 )\n",
    "plt.title('Temperatura máxima promedio anual')\n",
    "plt.savefig('cajamax_anual2',plt=2000)\n",
    "plt.show()"
   ]
  },
  {
   "cell_type": "code",
   "execution_count": 22,
   "metadata": {},
   "outputs": [
    {
     "data": {
      "image/png": "[encoded data removed]",
      "text/plain": [
       "<Figure size 432x288 with 1 Axes>"
      ]
     },
     "metadata": {
      "needs_background": "light"
     },
     "output_type": "display_data"
    }
   ],
   "source": [
    "#Diagrama de caja de la temperatura mínima promedio anual\n",
    "box = sns.boxplot(x=\"AÑO\", y=\"TMIN\", data=df)\n",
    "box.set( xlabel= 'Años', ylabel= 'Temperatura mínima (°C)')\n",
    "box.set_xticklabels(box.get_xticklabels(), rotation=90 )\n",
    "box.tick_params(labelsize=8)\n",
    "sns.despine()\n",
    "plt.title('Temperatura mínima promedio anual')\n",
    "plt.savefig('cajamin_anual',plt=2000)\n",
    "plt.show()"
   ]
  },
  {
   "cell_type": "code",
   "execution_count": 34,
   "metadata": {},
   "outputs": [
    {
     "data": {
      "image/png": "[encoded data removed]",
      "text/plain": [
       "<Figure size 432x288 with 1 Axes>"
      ]
     },
     "metadata": {
      "needs_background": "light"
     },
     "output_type": "display_data"
    }
   ],
   "source": [
    "#Diagrama de caja de la temperatura mínima promedio anual\n",
    "df2 = df.filter(['TMAX','AÑO'],axis=1)\n",
    "df2=df2.pivot(columns='AÑO',values='TMAX')\n",
    "df2.boxplot()\n",
    "box.set_xticklabels(box.get_xticklabels(), rotation=90 )\n",
    "box.tick_params(labelsize=8)\n",
    "sns.despine()\n",
    "plt.title('Temperatura mínima promedio anual')\n",
    "plt.savefig('cajamin_anual2',plt=2000)\n",
    "plt.show()"
   ]
  },
  {
   "cell_type": "code",
   "execution_count": null,
   "metadata": {},
   "outputs": [],
   "source": []
  }
 ],
 "metadata": {
  "kernelspec": {
   "display_name": "Python 3",
   "language": "python",
   "name": "python3"
  },
  "language_info": {
   "codemirror_mode": {
    "name": "ipython",
    "version": 3
   },
   "file_extension": ".py",
   "mimetype": "text/x-python",
   "name": "python",
   "nbconvert_exporter": "python",
   "pygments_lexer": "ipython3",
   "version": "3.7.1"
  }
 },
 "nbformat": 4,
 "nbformat_minor": 2
}
