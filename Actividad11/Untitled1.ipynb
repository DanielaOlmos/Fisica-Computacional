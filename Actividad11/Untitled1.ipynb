{
 "cells": [
  {
   "cell_type": "code",
   "execution_count": 1,
   "metadata": {},
   "outputs": [],
   "source": [
    "#Importamos las bibliotecas\n",
    "from math import cos\n",
    "import numpy as np\n",
    "import matplotlib.pyplot as plt\n",
    "from scipy.integrate import ode"
   ]
  },
  {
   "cell_type": "code",
   "execution_count": null,
   "metadata": {},
   "outputs": [],
   "source": [
    "#Creamos un arreglo de valores de tiempo t para los cuales evalue la solución; creamos también un arreglo que \n",
    "#almacene los valores obtenidos\n",
    "t1 = 40\n",
    "n = 400\n",
    "t = np.linspace(t0, t1, n)\n",
    "sol = np.empty((n, 2))"
   ]
  },
  {
   "cell_type": "code",
   "execution_count": null,
   "metadata": {},
   "outputs": [],
   "source": [
    "for i in range(0,251):\n",
    "    \n",
    "    #Definimos las ecuaciones diferenciales y los parámetros\n",
    "    def f(t, z, p):\n",
    "        \"\"\"\"\n",
    "         Lado derecho de las ecuaciones diferenciales\n",
    "          dx/dt = y\n",
    "          dy/dt = - δ*y - α*x - β*x**3 + γ*cos(ω*t)\n",
    "        \n",
    "        \"\"\"\n",
    "        δ, α, β, γ, ω = p                           #Parámetros de nuestra integral\n",
    "        x, y = z                                    #Parámetros de integración\n",
    "        f = [y, - δ*y - α*x - β*x**3 + γ*cos(ω*t)]  #Función a integrar\n",
    "        \n",
    "        return f\n",
    "    \n",
    "    #Creamos una instancia para resolver la ecuación diferencial a través del método 'dopri5'\n",
    "    solver = ode(f)\n",
    "    solver.set_integrator('dopri5')\n",
    "    \n",
    "    #Especificamos los parámetros de la ecuación a nuestra función\n",
    "    γ = 1.0\n",
    "    α = 1.0\n",
    "    β = 0.0\n",
    "    δ = 0.1\n",
    "    ω = i*0.01\n",
    "    val = δ, α, β, γ, ω                      \n",
    "    solver.set_f_params(val)\n",
    "    \n",
    "    # Fijamos el valor inical z(0) = z0\n",
    "    t0 = 0.0\n",
    "    z0 = [1.0, 0]\n",
    "    solver.set_initial_value(z0, t0)\n",
    "    \n",
    "    sol[0] = z0\n",
    "    \n",
    "    #Llamamos repetidamente al integrador para que avance en la solución un tiempo 'k'\n",
    "    k = 1\n",
    "    \n",
    "    while solver.successful() and solver.t < t1:\n",
    "        solver.integrate(t[k])\n",
    "        sol[k] = solver.y\n",
    "        k += 1\n",
    "        \n",
    "    x = sol[:,0]\n",
    "    w5.append(ω)\n",
    "    \n",
    "    if abs(min(x)) < max(x):\n",
    "        grafs5.append(max(x))\n",
    "    elif abs(min(x)) > max(x):\n",
    "        grafs5.append(abs(min(x)))\n",
    "   "
   ]
  }
 ],
 "metadata": {
  "kernelspec": {
   "display_name": "Python 3",
   "language": "python",
   "name": "python3"
  },
  "language_info": {
   "codemirror_mode": {
    "name": "ipython",
    "version": 3
   },
   "file_extension": ".py",
   "mimetype": "text/x-python",
   "name": "python",
   "nbconvert_exporter": "python",
   "pygments_lexer": "ipython3",
   "version": "3.7.1"
  }
 },
 "nbformat": 4,
 "nbformat_minor": 2
}
