{
 "cells": [
  {
   "cell_type": "code",
   "execution_count": 1,
   "metadata": {},
   "outputs": [],
   "source": [
    "import pandas as pd\n",
    "import numpy as np\n",
    "import matplotlib.pyplot as plt\n",
    "from datetime import datetime"
   ]
  },
  {
   "cell_type": "code",
   "execution_count": 2,
   "metadata": {},
   "outputs": [],
   "source": [
    "df0 = pd.read_csv('kino.txt', skiprows=4, sep='\\s+')"
   ]
  },
  {
   "cell_type": "code",
   "execution_count": 3,
   "metadata": {},
   "outputs": [
    {
     "data": {
      "text/html": [
       "<div>\n",
       "<style scoped>\n",
       "    .dataframe tbody tr th:only-of-type {\n",
       "        vertical-align: middle;\n",
       "    }\n",
       "\n",
       "    .dataframe tbody tr th {\n",
       "        vertical-align: top;\n",
       "    }\n",
       "\n",
       "    .dataframe thead th {\n",
       "        text-align: right;\n",
       "    }\n",
       "</style>\n",
       "<table border=\"1\" class=\"dataframe\">\n",
       "  <thead>\n",
       "    <tr style=\"text-align: right;\">\n",
       "      <th></th>\n",
       "      <th>DD/MM/AAAA</th>\n",
       "      <th>HH:MM</th>\n",
       "      <th>DIRS</th>\n",
       "      <th>DIRR</th>\n",
       "      <th>VELS</th>\n",
       "      <th>VELR</th>\n",
       "      <th>TEMP</th>\n",
       "      <th>HR</th>\n",
       "      <th>PB</th>\n",
       "      <th>PREC</th>\n",
       "      <th>RADSOL</th>\n",
       "    </tr>\n",
       "  </thead>\n",
       "  <tbody>\n",
       "    <tr>\n",
       "      <th>0</th>\n",
       "      <td>22/01/2019</td>\n",
       "      <td>16:00</td>\n",
       "      <td>278.0</td>\n",
       "      <td>274.0</td>\n",
       "      <td>18.59</td>\n",
       "      <td>30.2</td>\n",
       "      <td>17.3</td>\n",
       "      <td>40.0</td>\n",
       "      <td>1018.3</td>\n",
       "      <td>0.0</td>\n",
       "      <td>262.3</td>\n",
       "    </tr>\n",
       "    <tr>\n",
       "      <th>1</th>\n",
       "      <td>22/01/2019</td>\n",
       "      <td>17:00</td>\n",
       "      <td>293.0</td>\n",
       "      <td>285.0</td>\n",
       "      <td>15.19</td>\n",
       "      <td>25.9</td>\n",
       "      <td>18.9</td>\n",
       "      <td>30.0</td>\n",
       "      <td>1019.0</td>\n",
       "      <td>0.0</td>\n",
       "      <td>550.7</td>\n",
       "    </tr>\n",
       "    <tr>\n",
       "      <th>2</th>\n",
       "      <td>22/01/2019</td>\n",
       "      <td>18:00</td>\n",
       "      <td>249.0</td>\n",
       "      <td>240.0</td>\n",
       "      <td>20.45</td>\n",
       "      <td>36.4</td>\n",
       "      <td>19.6</td>\n",
       "      <td>32.0</td>\n",
       "      <td>1019.0</td>\n",
       "      <td>0.0</td>\n",
       "      <td>649.5</td>\n",
       "    </tr>\n",
       "    <tr>\n",
       "      <th>3</th>\n",
       "      <td>22/01/2019</td>\n",
       "      <td>19:00</td>\n",
       "      <td>257.0</td>\n",
       "      <td>252.0</td>\n",
       "      <td>27.09</td>\n",
       "      <td>47.5</td>\n",
       "      <td>20.0</td>\n",
       "      <td>31.0</td>\n",
       "      <td>1018.5</td>\n",
       "      <td>0.0</td>\n",
       "      <td>762.8</td>\n",
       "    </tr>\n",
       "    <tr>\n",
       "      <th>4</th>\n",
       "      <td>22/01/2019</td>\n",
       "      <td>20:00</td>\n",
       "      <td>275.0</td>\n",
       "      <td>282.0</td>\n",
       "      <td>29.50</td>\n",
       "      <td>47.9</td>\n",
       "      <td>20.7</td>\n",
       "      <td>24.0</td>\n",
       "      <td>1017.8</td>\n",
       "      <td>0.0</td>\n",
       "      <td>744.0</td>\n",
       "    </tr>\n",
       "  </tbody>\n",
       "</table>\n",
       "</div>"
      ],
      "text/plain": [
       "   DD/MM/AAAA  HH:MM   DIRS   DIRR   VELS  VELR  TEMP    HR      PB  PREC  \\\n",
       "0  22/01/2019  16:00  278.0  274.0  18.59  30.2  17.3  40.0  1018.3   0.0   \n",
       "1  22/01/2019  17:00  293.0  285.0  15.19  25.9  18.9  30.0  1019.0   0.0   \n",
       "2  22/01/2019  18:00  249.0  240.0  20.45  36.4  19.6  32.0  1019.0   0.0   \n",
       "3  22/01/2019  19:00  257.0  252.0  27.09  47.5  20.0  31.0  1018.5   0.0   \n",
       "4  22/01/2019  20:00  275.0  282.0  29.50  47.9  20.7  24.0  1017.8   0.0   \n",
       "\n",
       "   RADSOL  \n",
       "0   262.3  \n",
       "1   550.7  \n",
       "2   649.5  \n",
       "3   762.8  \n",
       "4   744.0  "
      ]
     },
     "execution_count": 3,
     "metadata": {},
     "output_type": "execute_result"
    }
   ],
   "source": [
    "df0.head()"
   ]
  },
  {
   "cell_type": "code",
   "execution_count": 4,
   "metadata": {},
   "outputs": [],
   "source": [
    "df = pd.DataFrame(df0)"
   ]
  },
  {
   "cell_type": "code",
   "execution_count": 5,
   "metadata": {},
   "outputs": [
    {
     "data": {
      "text/plain": [
       "DD/MM/AAAA     object\n",
       "HH:MM          object\n",
       "DIRS          float64\n",
       "DIRR          float64\n",
       "VELS          float64\n",
       "VELR          float64\n",
       "TEMP          float64\n",
       "HR            float64\n",
       "PB            float64\n",
       "PREC          float64\n",
       "RADSOL        float64\n",
       "dtype: object"
      ]
     },
     "execution_count": 5,
     "metadata": {},
     "output_type": "execute_result"
    }
   ],
   "source": [
    "df.dtypes"
   ]
  },
  {
   "cell_type": "code",
   "execution_count": 6,
   "metadata": {},
   "outputs": [],
   "source": [
    "df['FECHA'] = pd.to_datetime(df.apply(lambda x: x['DD/MM/AAAA'] + ' ' + x['HH:MM'], 1), dayfirst=True)\n",
    "df = df.drop(['DD/MM/AAAA', 'HH:MM'], 1)"
   ]
  },
  {
   "cell_type": "code",
   "execution_count": 7,
   "metadata": {},
   "outputs": [
    {
     "data": {
      "text/html": [
       "<div>\n",
       "<style scoped>\n",
       "    .dataframe tbody tr th:only-of-type {\n",
       "        vertical-align: middle;\n",
       "    }\n",
       "\n",
       "    .dataframe tbody tr th {\n",
       "        vertical-align: top;\n",
       "    }\n",
       "\n",
       "    .dataframe thead th {\n",
       "        text-align: right;\n",
       "    }\n",
       "</style>\n",
       "<table border=\"1\" class=\"dataframe\">\n",
       "  <thead>\n",
       "    <tr style=\"text-align: right;\">\n",
       "      <th></th>\n",
       "      <th>DIRS</th>\n",
       "      <th>DIRR</th>\n",
       "      <th>VELS</th>\n",
       "      <th>VELR</th>\n",
       "      <th>TEMP</th>\n",
       "      <th>HR</th>\n",
       "      <th>PB</th>\n",
       "      <th>PREC</th>\n",
       "      <th>RADSOL</th>\n",
       "      <th>FECHA</th>\n",
       "    </tr>\n",
       "  </thead>\n",
       "  <tbody>\n",
       "    <tr>\n",
       "      <th>0</th>\n",
       "      <td>278.0</td>\n",
       "      <td>274.0</td>\n",
       "      <td>18.59</td>\n",
       "      <td>30.2</td>\n",
       "      <td>17.3</td>\n",
       "      <td>40.0</td>\n",
       "      <td>1018.3</td>\n",
       "      <td>0.0</td>\n",
       "      <td>262.3</td>\n",
       "      <td>2019-01-22 16:00:00</td>\n",
       "    </tr>\n",
       "    <tr>\n",
       "      <th>1</th>\n",
       "      <td>293.0</td>\n",
       "      <td>285.0</td>\n",
       "      <td>15.19</td>\n",
       "      <td>25.9</td>\n",
       "      <td>18.9</td>\n",
       "      <td>30.0</td>\n",
       "      <td>1019.0</td>\n",
       "      <td>0.0</td>\n",
       "      <td>550.7</td>\n",
       "      <td>2019-01-22 17:00:00</td>\n",
       "    </tr>\n",
       "    <tr>\n",
       "      <th>2</th>\n",
       "      <td>249.0</td>\n",
       "      <td>240.0</td>\n",
       "      <td>20.45</td>\n",
       "      <td>36.4</td>\n",
       "      <td>19.6</td>\n",
       "      <td>32.0</td>\n",
       "      <td>1019.0</td>\n",
       "      <td>0.0</td>\n",
       "      <td>649.5</td>\n",
       "      <td>2019-01-22 18:00:00</td>\n",
       "    </tr>\n",
       "    <tr>\n",
       "      <th>3</th>\n",
       "      <td>257.0</td>\n",
       "      <td>252.0</td>\n",
       "      <td>27.09</td>\n",
       "      <td>47.5</td>\n",
       "      <td>20.0</td>\n",
       "      <td>31.0</td>\n",
       "      <td>1018.5</td>\n",
       "      <td>0.0</td>\n",
       "      <td>762.8</td>\n",
       "      <td>2019-01-22 19:00:00</td>\n",
       "    </tr>\n",
       "    <tr>\n",
       "      <th>4</th>\n",
       "      <td>275.0</td>\n",
       "      <td>282.0</td>\n",
       "      <td>29.50</td>\n",
       "      <td>47.9</td>\n",
       "      <td>20.7</td>\n",
       "      <td>24.0</td>\n",
       "      <td>1017.8</td>\n",
       "      <td>0.0</td>\n",
       "      <td>744.0</td>\n",
       "      <td>2019-01-22 20:00:00</td>\n",
       "    </tr>\n",
       "  </tbody>\n",
       "</table>\n",
       "</div>"
      ],
      "text/plain": [
       "    DIRS   DIRR   VELS  VELR  TEMP    HR      PB  PREC  RADSOL  \\\n",
       "0  278.0  274.0  18.59  30.2  17.3  40.0  1018.3   0.0   262.3   \n",
       "1  293.0  285.0  15.19  25.9  18.9  30.0  1019.0   0.0   550.7   \n",
       "2  249.0  240.0  20.45  36.4  19.6  32.0  1019.0   0.0   649.5   \n",
       "3  257.0  252.0  27.09  47.5  20.0  31.0  1018.5   0.0   762.8   \n",
       "4  275.0  282.0  29.50  47.9  20.7  24.0  1017.8   0.0   744.0   \n",
       "\n",
       "                FECHA  \n",
       "0 2019-01-22 16:00:00  \n",
       "1 2019-01-22 17:00:00  \n",
       "2 2019-01-22 18:00:00  \n",
       "3 2019-01-22 19:00:00  \n",
       "4 2019-01-22 20:00:00  "
      ]
     },
     "execution_count": 7,
     "metadata": {},
     "output_type": "execute_result"
    }
   ],
   "source": [
    "df.head()"
   ]
  },
  {
   "cell_type": "code",
   "execution_count": 8,
   "metadata": {},
   "outputs": [
    {
     "data": {
      "text/html": [
       "<div>\n",
       "<style scoped>\n",
       "    .dataframe tbody tr th:only-of-type {\n",
       "        vertical-align: middle;\n",
       "    }\n",
       "\n",
       "    .dataframe tbody tr th {\n",
       "        vertical-align: top;\n",
       "    }\n",
       "\n",
       "    .dataframe thead th {\n",
       "        text-align: right;\n",
       "    }\n",
       "</style>\n",
       "<table border=\"1\" class=\"dataframe\">\n",
       "  <thead>\n",
       "    <tr style=\"text-align: right;\">\n",
       "      <th></th>\n",
       "      <th>DIRS</th>\n",
       "      <th>DIRR</th>\n",
       "      <th>VELS</th>\n",
       "      <th>VELR</th>\n",
       "      <th>TEMP</th>\n",
       "      <th>HR</th>\n",
       "      <th>PB</th>\n",
       "      <th>PREC</th>\n",
       "      <th>RADSOL</th>\n",
       "    </tr>\n",
       "  </thead>\n",
       "  <tbody>\n",
       "    <tr>\n",
       "      <th>count</th>\n",
       "      <td>139.000000</td>\n",
       "      <td>139.000000</td>\n",
       "      <td>139.000000</td>\n",
       "      <td>137.000000</td>\n",
       "      <td>137.000000</td>\n",
       "      <td>136.000000</td>\n",
       "      <td>136.000000</td>\n",
       "      <td>136.0</td>\n",
       "      <td>136.000000</td>\n",
       "    </tr>\n",
       "    <tr>\n",
       "      <th>mean</th>\n",
       "      <td>234.237410</td>\n",
       "      <td>247.760432</td>\n",
       "      <td>16.271727</td>\n",
       "      <td>26.430657</td>\n",
       "      <td>15.961314</td>\n",
       "      <td>46.036765</td>\n",
       "      <td>1016.168382</td>\n",
       "      <td>0.0</td>\n",
       "      <td>182.464706</td>\n",
       "    </tr>\n",
       "    <tr>\n",
       "      <th>std</th>\n",
       "      <td>87.600425</td>\n",
       "      <td>130.018560</td>\n",
       "      <td>23.113150</td>\n",
       "      <td>12.796930</td>\n",
       "      <td>4.311054</td>\n",
       "      <td>15.273025</td>\n",
       "      <td>2.777814</td>\n",
       "      <td>0.0</td>\n",
       "      <td>268.626997</td>\n",
       "    </tr>\n",
       "    <tr>\n",
       "      <th>min</th>\n",
       "      <td>18.000000</td>\n",
       "      <td>1.000000</td>\n",
       "      <td>-1.000000</td>\n",
       "      <td>6.100000</td>\n",
       "      <td>5.500000</td>\n",
       "      <td>17.000000</td>\n",
       "      <td>1011.700000</td>\n",
       "      <td>0.0</td>\n",
       "      <td>-1.000000</td>\n",
       "    </tr>\n",
       "    <tr>\n",
       "      <th>25%</th>\n",
       "      <td>243.000000</td>\n",
       "      <td>243.500000</td>\n",
       "      <td>6.145000</td>\n",
       "      <td>13.300000</td>\n",
       "      <td>13.100000</td>\n",
       "      <td>35.000000</td>\n",
       "      <td>1013.775000</td>\n",
       "      <td>0.0</td>\n",
       "      <td>-1.000000</td>\n",
       "    </tr>\n",
       "    <tr>\n",
       "      <th>50%</th>\n",
       "      <td>267.000000</td>\n",
       "      <td>270.000000</td>\n",
       "      <td>15.770000</td>\n",
       "      <td>27.000000</td>\n",
       "      <td>16.000000</td>\n",
       "      <td>44.000000</td>\n",
       "      <td>1015.900000</td>\n",
       "      <td>0.0</td>\n",
       "      <td>-1.000000</td>\n",
       "    </tr>\n",
       "    <tr>\n",
       "      <th>75%</th>\n",
       "      <td>281.500000</td>\n",
       "      <td>284.500000</td>\n",
       "      <td>20.495000</td>\n",
       "      <td>35.600000</td>\n",
       "      <td>19.500000</td>\n",
       "      <td>57.000000</td>\n",
       "      <td>1017.725000</td>\n",
       "      <td>0.0</td>\n",
       "      <td>322.575000</td>\n",
       "    </tr>\n",
       "    <tr>\n",
       "      <th>max</th>\n",
       "      <td>347.000000</td>\n",
       "      <td>1017.600000</td>\n",
       "      <td>266.700000</td>\n",
       "      <td>55.400000</td>\n",
       "      <td>24.000000</td>\n",
       "      <td>82.000000</td>\n",
       "      <td>1022.800000</td>\n",
       "      <td>0.0</td>\n",
       "      <td>771.300000</td>\n",
       "    </tr>\n",
       "  </tbody>\n",
       "</table>\n",
       "</div>"
      ],
      "text/plain": [
       "             DIRS         DIRR        VELS        VELR        TEMP  \\\n",
       "count  139.000000   139.000000  139.000000  137.000000  137.000000   \n",
       "mean   234.237410   247.760432   16.271727   26.430657   15.961314   \n",
       "std     87.600425   130.018560   23.113150   12.796930    4.311054   \n",
       "min     18.000000     1.000000   -1.000000    6.100000    5.500000   \n",
       "25%    243.000000   243.500000    6.145000   13.300000   13.100000   \n",
       "50%    267.000000   270.000000   15.770000   27.000000   16.000000   \n",
       "75%    281.500000   284.500000   20.495000   35.600000   19.500000   \n",
       "max    347.000000  1017.600000  266.700000   55.400000   24.000000   \n",
       "\n",
       "               HR           PB   PREC      RADSOL  \n",
       "count  136.000000   136.000000  136.0  136.000000  \n",
       "mean    46.036765  1016.168382    0.0  182.464706  \n",
       "std     15.273025     2.777814    0.0  268.626997  \n",
       "min     17.000000  1011.700000    0.0   -1.000000  \n",
       "25%     35.000000  1013.775000    0.0   -1.000000  \n",
       "50%     44.000000  1015.900000    0.0   -1.000000  \n",
       "75%     57.000000  1017.725000    0.0  322.575000  \n",
       "max     82.000000  1022.800000    0.0  771.300000  "
      ]
     },
     "execution_count": 8,
     "metadata": {},
     "output_type": "execute_result"
    }
   ],
   "source": [
    "df.describe()"
   ]
  },
  {
   "cell_type": "code",
   "execution_count": 9,
   "metadata": {},
   "outputs": [
    {
     "data": {
      "text/html": [
       "<div>\n",
       "<style scoped>\n",
       "    .dataframe tbody tr th:only-of-type {\n",
       "        vertical-align: middle;\n",
       "    }\n",
       "\n",
       "    .dataframe tbody tr th {\n",
       "        vertical-align: top;\n",
       "    }\n",
       "\n",
       "    .dataframe thead th {\n",
       "        text-align: right;\n",
       "    }\n",
       "</style>\n",
       "<table border=\"1\" class=\"dataframe\">\n",
       "  <thead>\n",
       "    <tr style=\"text-align: right;\">\n",
       "      <th></th>\n",
       "      <th>DIRS</th>\n",
       "      <th>DIRR</th>\n",
       "      <th>VELS</th>\n",
       "      <th>VELR</th>\n",
       "      <th>TEMP</th>\n",
       "      <th>HR</th>\n",
       "      <th>PB</th>\n",
       "      <th>PREC</th>\n",
       "      <th>RADSOL</th>\n",
       "      <th>FECHA</th>\n",
       "    </tr>\n",
       "  </thead>\n",
       "  <tbody>\n",
       "  </tbody>\n",
       "</table>\n",
       "</div>"
      ],
      "text/plain": [
       "Empty DataFrame\n",
       "Columns: [DIRS, DIRR, VELS, VELR, TEMP, HR, PB, PREC, RADSOL, FECHA]\n",
       "Index: []"
      ]
     },
     "execution_count": 9,
     "metadata": {},
     "output_type": "execute_result"
    }
   ],
   "source": [
    "df_tmp = df[df.TEMP > 24]\n",
    "df_select = df_tmp[df_tmp.TEMP <25]\n",
    "df_select"
   ]
  },
  {
   "cell_type": "code",
   "execution_count": 10,
   "metadata": {},
   "outputs": [
    {
     "data": {
      "text/plain": [
       "DIRS       234.237410\n",
       "DIRR       247.760432\n",
       "VELS        16.271727\n",
       "VELR        26.430657\n",
       "TEMP        15.961314\n",
       "HR          46.036765\n",
       "PB        1016.168382\n",
       "PREC         0.000000\n",
       "RADSOL     182.464706\n",
       "dtype: float64"
      ]
     },
     "execution_count": 10,
     "metadata": {},
     "output_type": "execute_result"
    }
   ],
   "source": [
    "df.mean()"
   ]
  },
  {
   "cell_type": "code",
   "execution_count": 11,
   "metadata": {},
   "outputs": [
    {
     "data": {
      "text/plain": [
       "15.961313868613148"
      ]
     },
     "execution_count": 11,
     "metadata": {},
     "output_type": "execute_result"
    }
   ],
   "source": [
    "df.TEMP.mean()"
   ]
  },
  {
   "cell_type": "code",
   "execution_count": 28,
   "metadata": {},
   "outputs": [
    {
     "data": {
      "image/png": "[encoded data removed]",
      "text/plain": [
       "<Figure size 432x288 with 1 Axes>"
      ]
     },
     "metadata": {
      "needs_background": "light"
     },
     "output_type": "display_data"
    }
   ],
   "source": [
    "plt.figure(); df.VELS.plot(); plt.legend(loc='best')\n",
    "plt.title(\"Variación de la Rapidez de los Vientos\")\n",
    "plt.ylabel(\"Rapidez (m/s)\")\n",
    "plt.grid(True)\n",
    "plt.savefig('grafica1')\n",
    "plt.show()"
   ]
  },
  {
   "cell_type": "code",
   "execution_count": 20,
   "metadata": {},
   "outputs": [
    {
     "data": {
      "text/plain": [
       "<Figure size 432x288 with 0 Axes>"
      ]
     },
     "metadata": {},
     "output_type": "display_data"
    },
    {
     "data": {
      "image/png": "[encoded data removed]",
      "text/plain": [
       "<Figure size 432x288 with 1 Axes>"
      ]
     },
     "metadata": {
      "needs_background": "light"
     },
     "output_type": "display_data"
    }
   ],
   "source": [
    "df1 = df[['TEMP','HR']]\n",
    "plt.figure(); df1.plot(); plt.legend(loc='best')\n",
    "plt.title(\"Variación de la Temperatura y la Humedad Relativa\")\n",
    "plt.ylabel(\"Temp ºC\")\n",
    "plt.savefig('grafica2')\n",
    "plt.grid(True)\n",
    "plt.show()"
   ]
  },
  {
   "cell_type": "code",
   "execution_count": 21,
   "metadata": {},
   "outputs": [
    {
     "data": {
      "image/png": "[encoded data removed]",
      "text/plain": [
       "<Figure size 432x288 with 1 Axes>"
      ]
     },
     "metadata": {
      "needs_background": "light"
     },
     "output_type": "display_data"
    }
   ],
   "source": [
    "plt.plot_date(x=df.FECHA, y=df.TEMP, fmt=\"b-\")\n",
    "plt.title(\"Variación de la Temperatura\")\n",
    "plt.ylabel(\"Temp ºC\")\n",
    "plt.grid(True)\n",
    "plt.savefig('grafica3')\n",
    "plt.show()\n"
   ]
  },
  {
   "cell_type": "code",
   "execution_count": 22,
   "metadata": {},
   "outputs": [
    {
     "data": {
      "image/png": "[encoded data removed]",
      "text/plain": [
       "<Figure size 432x288 with 1 Axes>"
      ]
     },
     "metadata": {
      "needs_background": "light"
     },
     "output_type": "display_data"
    }
   ],
   "source": [
    "plt.plot_date(x=df.FECHA, y=df.VELS,fmt=\"b-\", xdate=True);plt.legend(loc='best')\n",
    "plt.plot_date(x=df.FECHA, y=df.VELR,fmt=\"g-\", xdate=True);plt.legend(loc='best')\n",
    "plt.title(\"Rapidez de los vientos y rapidez de las ráfagas\")\n",
    "plt.ylabel(\"Rapidez\")\n",
    "plt.grid(True)\n",
    "plt.savefig('grafica4')\n",
    "plt.show()"
   ]
  },
  {
   "cell_type": "code",
   "execution_count": null,
   "metadata": {},
   "outputs": [],
   "source": []
  },
  {
   "cell_type": "code",
   "execution_count": 24,
   "metadata": {
    "scrolled": true
   },
   "outputs": [
    {
     "data": {
      "image/png": "[encoded data removed]",
      "text/plain": [
       "<Figure size 432x288 with 1 Axes>"
      ]
     },
     "metadata": {
      "needs_background": "light"
     },
     "output_type": "display_data"
    }
   ],
   "source": [
    "plt.plot_date(x=df.FECHA, y=df.RADSOL, fmt=\"b-\")\n",
    "plt.title(\"Radiación solar\")\n",
    "plt.ylabel(\"W/m^2\")\n",
    "plt.xlabel(\"Tiempo\")\n",
    "plt.grid(True)\n",
    "plt.savefig('grafica5')\n",
    "plt.show()"
   ]
  },
  {
   "cell_type": "code",
   "execution_count": 18,
   "metadata": {},
   "outputs": [
    {
     "data": {
      "text/plain": [
       "18.5"
      ]
     },
     "execution_count": 18,
     "metadata": {},
     "output_type": "execute_result"
    }
   ],
   "source": [
    "##Rango de Temperaturas\n",
    "rangoT = df.TEMP.max()-df.TEMP.min()\n",
    "rangoT"
   ]
  },
  {
   "cell_type": "code",
   "execution_count": 29,
   "metadata": {},
   "outputs": [
    {
     "data": {
      "image/png": "[encoded data removed]",
      "text/plain": [
       "<Figure size 432x288 with 1 Axes>"
      ]
     },
     "metadata": {
      "needs_background": "light"
     },
     "output_type": "display_data"
    }
   ],
   "source": [
    "plt.figure(); df.DIRS.plot(); plt.legend(loc='best')\n",
    "plt.title(\"Dirección de los vientos\")\n",
    "plt.ylabel(\"Ángulos\")\n",
    "plt.xlabel(\"Tiempo\")\n",
    "plt.grid(True)\n",
    "plt.savefig('grafica6')\n",
    "plt.show()"
   ]
  },
  {
   "cell_type": "code",
   "execution_count": 27,
   "metadata": {},
   "outputs": [
    {
     "data": {
      "text/html": [
       "<div>\n",
       "<style scoped>\n",
       "    .dataframe tbody tr th:only-of-type {\n",
       "        vertical-align: middle;\n",
       "    }\n",
       "\n",
       "    .dataframe tbody tr th {\n",
       "        vertical-align: top;\n",
       "    }\n",
       "\n",
       "    .dataframe thead th {\n",
       "        text-align: right;\n",
       "    }\n",
       "</style>\n",
       "<table border=\"1\" class=\"dataframe\">\n",
       "  <thead>\n",
       "    <tr style=\"text-align: right;\">\n",
       "      <th></th>\n",
       "      <th>DIRS</th>\n",
       "      <th>DIRR</th>\n",
       "      <th>VELS</th>\n",
       "      <th>VELR</th>\n",
       "      <th>TEMP</th>\n",
       "      <th>HR</th>\n",
       "      <th>PB</th>\n",
       "      <th>PREC</th>\n",
       "      <th>RADSOL</th>\n",
       "    </tr>\n",
       "  </thead>\n",
       "  <tbody>\n",
       "    <tr>\n",
       "      <th>count</th>\n",
       "      <td>139.000000</td>\n",
       "      <td>139.000000</td>\n",
       "      <td>139.000000</td>\n",
       "      <td>137.000000</td>\n",
       "      <td>137.000000</td>\n",
       "      <td>136.000000</td>\n",
       "      <td>136.000000</td>\n",
       "      <td>136.0</td>\n",
       "      <td>136.000000</td>\n",
       "    </tr>\n",
       "    <tr>\n",
       "      <th>mean</th>\n",
       "      <td>234.237410</td>\n",
       "      <td>247.760432</td>\n",
       "      <td>16.271727</td>\n",
       "      <td>26.430657</td>\n",
       "      <td>15.961314</td>\n",
       "      <td>46.036765</td>\n",
       "      <td>1016.168382</td>\n",
       "      <td>0.0</td>\n",
       "      <td>182.464706</td>\n",
       "    </tr>\n",
       "    <tr>\n",
       "      <th>std</th>\n",
       "      <td>87.600425</td>\n",
       "      <td>130.018560</td>\n",
       "      <td>23.113150</td>\n",
       "      <td>12.796930</td>\n",
       "      <td>4.311054</td>\n",
       "      <td>15.273025</td>\n",
       "      <td>2.777814</td>\n",
       "      <td>0.0</td>\n",
       "      <td>268.626997</td>\n",
       "    </tr>\n",
       "    <tr>\n",
       "      <th>min</th>\n",
       "      <td>18.000000</td>\n",
       "      <td>1.000000</td>\n",
       "      <td>-1.000000</td>\n",
       "      <td>6.100000</td>\n",
       "      <td>5.500000</td>\n",
       "      <td>17.000000</td>\n",
       "      <td>1011.700000</td>\n",
       "      <td>0.0</td>\n",
       "      <td>-1.000000</td>\n",
       "    </tr>\n",
       "    <tr>\n",
       "      <th>25%</th>\n",
       "      <td>243.000000</td>\n",
       "      <td>243.500000</td>\n",
       "      <td>6.145000</td>\n",
       "      <td>13.300000</td>\n",
       "      <td>13.100000</td>\n",
       "      <td>35.000000</td>\n",
       "      <td>1013.775000</td>\n",
       "      <td>0.0</td>\n",
       "      <td>-1.000000</td>\n",
       "    </tr>\n",
       "    <tr>\n",
       "      <th>50%</th>\n",
       "      <td>267.000000</td>\n",
       "      <td>270.000000</td>\n",
       "      <td>15.770000</td>\n",
       "      <td>27.000000</td>\n",
       "      <td>16.000000</td>\n",
       "      <td>44.000000</td>\n",
       "      <td>1015.900000</td>\n",
       "      <td>0.0</td>\n",
       "      <td>-1.000000</td>\n",
       "    </tr>\n",
       "    <tr>\n",
       "      <th>75%</th>\n",
       "      <td>281.500000</td>\n",
       "      <td>284.500000</td>\n",
       "      <td>20.495000</td>\n",
       "      <td>35.600000</td>\n",
       "      <td>19.500000</td>\n",
       "      <td>57.000000</td>\n",
       "      <td>1017.725000</td>\n",
       "      <td>0.0</td>\n",
       "      <td>322.575000</td>\n",
       "    </tr>\n",
       "    <tr>\n",
       "      <th>max</th>\n",
       "      <td>347.000000</td>\n",
       "      <td>1017.600000</td>\n",
       "      <td>266.700000</td>\n",
       "      <td>55.400000</td>\n",
       "      <td>24.000000</td>\n",
       "      <td>82.000000</td>\n",
       "      <td>1022.800000</td>\n",
       "      <td>0.0</td>\n",
       "      <td>771.300000</td>\n",
       "    </tr>\n",
       "  </tbody>\n",
       "</table>\n",
       "</div>"
      ],
      "text/plain": [
       "             DIRS         DIRR        VELS        VELR        TEMP  \\\n",
       "count  139.000000   139.000000  139.000000  137.000000  137.000000   \n",
       "mean   234.237410   247.760432   16.271727   26.430657   15.961314   \n",
       "std     87.600425   130.018560   23.113150   12.796930    4.311054   \n",
       "min     18.000000     1.000000   -1.000000    6.100000    5.500000   \n",
       "25%    243.000000   243.500000    6.145000   13.300000   13.100000   \n",
       "50%    267.000000   270.000000   15.770000   27.000000   16.000000   \n",
       "75%    281.500000   284.500000   20.495000   35.600000   19.500000   \n",
       "max    347.000000  1017.600000  266.700000   55.400000   24.000000   \n",
       "\n",
       "               HR           PB   PREC      RADSOL  \n",
       "count  136.000000   136.000000  136.0  136.000000  \n",
       "mean    46.036765  1016.168382    0.0  182.464706  \n",
       "std     15.273025     2.777814    0.0  268.626997  \n",
       "min     17.000000  1011.700000    0.0   -1.000000  \n",
       "25%     35.000000  1013.775000    0.0   -1.000000  \n",
       "50%     44.000000  1015.900000    0.0   -1.000000  \n",
       "75%     57.000000  1017.725000    0.0  322.575000  \n",
       "max     82.000000  1022.800000    0.0  771.300000  "
      ]
     },
     "execution_count": 27,
     "metadata": {},
     "output_type": "execute_result"
    }
   ],
   "source": [
    "df.describe()\n"
   ]
  },
  {
   "cell_type": "code",
   "execution_count": null,
   "metadata": {},
   "outputs": [],
   "source": []
  }
 ],
 "metadata": {
  "kernelspec": {
   "display_name": "Python 3",
   "language": "python",
   "name": "python3"
  },
  "language_info": {
   "codemirror_mode": {
    "name": "ipython",
    "version": 3
   },
   "file_extension": ".py",
   "mimetype": "text/x-python",
   "name": "python",
   "nbconvert_exporter": "python",
   "pygments_lexer": "ipython3",
   "version": "3.7.1"
  }
 },
 "nbformat": 4,
 "nbformat_minor": 2
}
